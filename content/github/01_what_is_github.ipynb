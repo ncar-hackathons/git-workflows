{
 "cells": [
  {
   "cell_type": "markdown",
   "metadata": {},
   "source": [
    "![](../images/github-logo.png)\n",
    "# What is GitHub?"
   ]
  },
  {
   "cell_type": "markdown",
   "metadata": {},
   "source": [
    "While Git is a _distributed_ Version Control System (VCS), there is nothing to prevent you from having a _central_ server to host your Git repository.  That is essentially what GitHub is: a hosting platform for your Git repositories.\n",
    "\n",
    "Repositories on GitHub are _bare_ repositories (see last section) where branches and commits can not be checked out, but they can be cloned _ad infinitum_.  Also, users with the correct priviledges can _push_ their changes directly to GitHub repositories.\n",
    "\n",
    "But GitHub is a lot more than that!\n",
    "\n",
    "GitHub"
   ]
  }
 ],
 "metadata": {
  "kernelspec": {
   "display_name": "Python 3",
   "language": "python",
   "name": "python3"
  },
  "language_info": {
   "codemirror_mode": {
    "name": "ipython",
    "version": 3
   },
   "file_extension": ".py",
   "mimetype": "text/x-python",
   "name": "python",
   "nbconvert_exporter": "python",
   "pygments_lexer": "ipython3",
   "version": "3.7.3"
  }
 },
 "nbformat": 4,
 "nbformat_minor": 2
}
