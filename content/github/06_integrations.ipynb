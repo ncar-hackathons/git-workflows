{
 "cells": [
  {
   "cell_type": "markdown",
   "metadata": {},
   "source": [
    "![](../images/github-logo.png)\n",
    "# Integrations"
   ]
  },
  {
   "cell_type": "markdown",
   "metadata": {},
   "source": [
    "A wonderful feature of GitHub is its ability to integrate with a wide variety of automated processes, such as Continuous Integration and Code Coverage!\n",
    "\n",
    "### Continuous Integration (CI)\n",
    "\n",
    "Continuous Integration (CI) allows you to use a free hosting service to run tests for your project code _automatically, every time a new PR is attempted_.  That means, your test suite will be run \"somewhere on the cloud\", depending on the CI service you use (CircleCI, TravisCI, AppVeyor, etc.).  Each of these CI services has advantages and disadvantages.  For example, AppVeyor will test you code on a Windows or Linux machine (for free).  TravisCI will let you test on Linux, MacOS, and Android (for free).  Obviously, you can pay for additional options.\n",
    "\n",
    "### Code Coverage\n",
    "\n",
    "Code Coverage is a capability that allows you to test what _lines_ of your code are actually tested by your test suite.  It is not perfect, but code coverage allows you get a sense for whether there are any branches in your code that aren't being tested.  Code coverage can identify the actual \"missed\" lines of code, and you can write tests to test that code.\n",
    "\n",
    "### Code Quality Checks\n",
    "\n",
    "There are a number of automated tools that let you check the _quality_ of your code, according to set standards.  This includes things like code formatting standards and other such things.\n",
    "\n",
    "## And so much more...\n",
    "\n",
    "You can look at the [GitHub Marketplace](https://github.com/marketplace) to find integrations that you might be interested in using.  Some integrations may require payment for certain services, while many others provide a _free_ level of service, usually to Open Source (i.e., _public_) GitHub repositories.  (It's good to be open source!)"
   ]
  }
 ],
 "metadata": {
  "kernelspec": {
   "display_name": "Bash",
   "language": "bash",
   "name": "bash"
  },
  "language_info": {
   "codemirror_mode": "shell",
   "file_extension": ".sh",
   "mimetype": "text/x-sh",
   "name": "bash"
  }
 },
 "nbformat": 4,
 "nbformat_minor": 2
}
