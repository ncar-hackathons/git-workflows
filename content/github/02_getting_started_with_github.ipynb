{
 "cells": [
  {
   "cell_type": "markdown",
   "metadata": {},
   "source": [
    "![](../images/github-logo.png)\n",
    "# Getting Started with GitHub"
   ]
  },
  {
   "cell_type": "markdown",
   "metadata": {},
   "source": [
    "The first thing you will need is a GitHub account.  If you don't already have one, go to [github.com](https://github.com)."
   ]
  },
  {
   "cell_type": "markdown",
   "metadata": {},
   "source": [
    "Next, you need to make sure that the email address you have associate with your Git installation (i.e., `git config`) is the same as the email address associated with your GitHub account.  _This is how GitHub knows it is you!_"
   ]
  },
  {
   "cell_type": "code",
   "execution_count": 1,
   "metadata": {},
   "outputs": [
    {
     "name": "stdout",
     "output_type": "stream",
     "text": [
      "kpaul@ucar.edu\n"
     ]
    }
   ],
   "source": [
    "git config --global --get user.email"
   ]
  },
  {
   "cell_type": "markdown",
   "metadata": {},
   "source": [
    "If the previous cell doesn't return an email address that matches the email address you used for your GitHub account, then you should change it with the following line:\n",
    "\n",
    "```bash\n",
    "git config --global user.email you@domain.example.com\n",
    "```"
   ]
  },
  {
   "cell_type": "code",
   "execution_count": null,
   "metadata": {},
   "outputs": [],
   "source": []
  },
  {
   "cell_type": "markdown",
   "metadata": {},
   "source": [
    "And that's about all you need to do to get started with GitHub.  We'll be going back and forth between the [GitHub website](https://github.com) and wherever you have Git installed for the remainder of this section, so you might want to bring up GitHub in another tab of your browser."
   ]
  }
 ],
 "metadata": {
  "kernelspec": {
   "display_name": "Bash",
   "language": "bash",
   "name": "bash"
  },
  "language_info": {
   "codemirror_mode": "shell",
   "file_extension": ".sh",
   "mimetype": "text/x-sh",
   "name": "bash"
  }
 },
 "nbformat": 4,
 "nbformat_minor": 2
}
