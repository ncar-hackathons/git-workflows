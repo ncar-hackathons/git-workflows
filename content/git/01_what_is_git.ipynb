{
 "cells": [
  {
   "cell_type": "markdown",
   "metadata": {},
   "source": [
    "![](../images/git-logo.png)\n",
    "# What is Git?"
   ]
  },
  {
   "cell_type": "markdown",
   "metadata": {},
   "source": [
    "First and foremost, Git is a Version Control System (VCS).  That is, it is something that\n",
    "tracks _changes_ in files (or directory structures) incrementally.  The files (and directories)\n",
    "that get tracked are contained in a _repository_, and each change that you _commit_ to the \n",
    "repository gets saved, allowing you to go back to a previous state of the files in your\n",
    "repository.  This is the basic definition of a VCS."
   ]
  },
  {
   "cell_type": "markdown",
   "metadata": {},
   "source": [
    "Git, specifically, is a _distributed_ VCS, as opposed to a _centralized_ VCS.  What the\n",
    "difference?  A centralized VCS is typified by a _single_, _central_ _server_ that hosts your\n",
    "repository.  With a centralized VCS, changes made by one person on their personal computer\n",
    "(for example) must be _pushed_ to the central server in order to be saved in the repository.\n",
    "Hence, there is always one, and only one, _true_ repository, which is sitting on the server."
   ]
  },
  {
   "cell_type": "markdown",
   "metadata": {},
   "source": [
    "Distributed VCSes, on the other hand, don't have a central server.  That means, as in the\n",
    "case of Git, that changes made by one person on their personal computer get saved to _their\n",
    "own copy_ of the \"true\" repository.  ...But then which repository is the \"true\" repository?\n",
    "If there are multiple copies of the same repository floating around the interwebs, which one\n",
    "is the one that can be _trusted_?  Well...  They _all_ can be trusted, because each copy\n",
    "of the repository is a self-consistent, stand-alone repository in its own right.  And you can\n",
    "always bring multiple copies of the same repository together by _merging_ them."
   ]
  },
  {
   "cell_type": "markdown",
   "metadata": {},
   "source": [
    "We'll talk a little about what is Git and how to use it in the following examples.  I encourage\n",
    "you to walk through these steps on your own."
   ]
  },
  {
   "cell_type": "markdown",
   "metadata": {},
   "source": [
    "**Note:** If you want to do the following on your laptop, you probably need to install Git.  You can do that [here](https://git-scm.com/downloads).\n",
    "\n",
    "If you want to do the following on Cheyenne, you will need to load the `git` module:\n",
    "\n",
    "```bash\n",
    "module load git\n",
    "```"
   ]
  }
 ],
 "metadata": {
  "kernelspec": {
   "display_name": "Python 3",
   "language": "python",
   "name": "python3"
  },
  "language_info": {
   "codemirror_mode": {
    "name": "ipython",
    "version": 3
   },
   "file_extension": ".py",
   "mimetype": "text/x-python",
   "name": "python",
   "nbconvert_exporter": "python",
   "pygments_lexer": "ipython3",
   "version": "3.7.3"
  }
 },
 "nbformat": 4,
 "nbformat_minor": 2
}
