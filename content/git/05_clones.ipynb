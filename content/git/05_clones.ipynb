{
 "cells": [
  {
   "cell_type": "markdown",
   "metadata": {},
   "source": [
    "![](../images/git-logo.png)\n",
    "# Clones"
   ]
  },
  {
   "cell_type": "markdown",
   "metadata": {},
   "source": [
    "As I mentioned in the start of this section, I said that Git was a _distributed_ VCS, and I used the word _distributed_ as opposed to _centralized_ to mean that Git does not assume a centralized server hosting your Git repository.  That means that every \"copy\" of a Git repository is a self-sufficient repository of its own.\n",
    "\n",
    "However, a simple _copy_ is probably not what you want.  The advantage of using a _distributed_ VCS is that you can `push` (`pull`) changes to (from) another repository.  In fact, you can set a copy of one repository to `pull` changes from one repository and `push` changes to a different copy, or vice versa.\n",
    "\n",
    "Let's take a look at a simple way to copy a repository using `git clone`."
   ]
  },
  {
   "cell_type": "code",
   "execution_count": 1,
   "metadata": {},
   "outputs": [],
   "source": [
    "cd"
   ]
  },
  {
   "cell_type": "code",
   "execution_count": 2,
   "metadata": {},
   "outputs": [],
   "source": [
    "if [ -d \"my_clone\" ]; then\n",
    "  rm -rf my_clone\n",
    "fi"
   ]
  },
  {
   "cell_type": "code",
   "execution_count": 3,
   "metadata": {},
   "outputs": [
    {
     "name": "stdout",
     "output_type": "stream",
     "text": [
      "Cloning into 'my_clone'...\n",
      "done.\n"
     ]
    }
   ],
   "source": [
    "git clone ~/my_project my_clone"
   ]
  },
  {
   "cell_type": "markdown",
   "metadata": {},
   "source": [
    "Let's remind ourselves what the log looks like in the `my_project` repository."
   ]
  },
  {
   "cell_type": "code",
   "execution_count": 4,
   "metadata": {},
   "outputs": [],
   "source": [
    "cd ~/my_project"
   ]
  },
  {
   "cell_type": "code",
   "execution_count": 5,
   "metadata": {},
   "outputs": [
    {
     "name": "stdout",
     "output_type": "stream",
     "text": [
      "\u001b[33m7ac1923\u001b[m\u001b[33m (\u001b[m\u001b[1;36mHEAD -> \u001b[m\u001b[1;32mmaster\u001b[m\u001b[33m)\u001b[m Merging feature into master.\n",
      "\u001b[33mefd779d\u001b[m Modifying file2.\n",
      "\u001b[33mde51d09\u001b[m Adding file3.\n",
      "\u001b[33mcb3f2ae\u001b[m Modifying file1.\n",
      "\u001b[33m170158a\u001b[m Adding file2.\n",
      "\u001b[33mea41f20\u001b[m Adding file1\n"
     ]
    }
   ],
   "source": [
    "git log --oneline"
   ]
  },
  {
   "cell_type": "markdown",
   "metadata": {},
   "source": [
    "And now let's look at the log of our new _clone_."
   ]
  },
  {
   "cell_type": "code",
   "execution_count": 6,
   "metadata": {},
   "outputs": [],
   "source": [
    "cd ~/my_clone"
   ]
  },
  {
   "cell_type": "code",
   "execution_count": 7,
   "metadata": {},
   "outputs": [
    {
     "name": "stdout",
     "output_type": "stream",
     "text": [
      "\u001b[33m7ac1923\u001b[m\u001b[33m (\u001b[m\u001b[1;36mHEAD -> \u001b[m\u001b[1;32mmaster\u001b[m\u001b[33m, \u001b[m\u001b[1;31morigin/master\u001b[m\u001b[33m, \u001b[m\u001b[1;31morigin/HEAD\u001b[m\u001b[33m)\u001b[m Merging feature into master.\n",
      "\u001b[33mefd779d\u001b[m Modifying file2.\n",
      "\u001b[33mde51d09\u001b[m Adding file3.\n",
      "\u001b[33mcb3f2ae\u001b[m Modifying file1.\n",
      "\u001b[33m170158a\u001b[m Adding file2.\n",
      "\u001b[33mea41f20\u001b[m Adding file1\n"
     ]
    }
   ],
   "source": [
    "git log --oneline"
   ]
  },
  {
   "cell_type": "markdown",
   "metadata": {},
   "source": [
    "Notice that there is extra information in the clone.  Just like in the `my_project` repository, it indicates that you are positioned at the end (`HEAD`) of the `master` branch's history, ready to add your next commit.\n",
    "\n",
    "However, it also says that this position in the history corresponds to the `origin/master` and `origin/HEAD`.  What are those?"
   ]
  },
  {
   "cell_type": "markdown",
   "metadata": {},
   "source": [
    "## Remotes"
   ]
  },
  {
   "cell_type": "markdown",
   "metadata": {},
   "source": [
    "That `origin` thing corresponds to the \"original repository.\"  To see what `origin` corresponds to, we need to use `git remote -v` (the `-v` says to be _verbose_ and display more information)."
   ]
  },
  {
   "cell_type": "code",
   "execution_count": 8,
   "metadata": {},
   "outputs": [
    {
     "name": "stdout",
     "output_type": "stream",
     "text": [
      "origin\t/Users/kpaul/my_project (fetch)\n",
      "origin\t/Users/kpaul/my_project (push)\n"
     ]
    }
   ],
   "source": [
    "git remote -v"
   ]
  },
  {
   "cell_type": "markdown",
   "metadata": {},
   "source": [
    "This tells you that the `origin` name is just a short-hand notation for the original repository `my_project`.  You can also see that `origin` is being used for both `fetch` (or `pull`) and `push` operations.  To understand how this works, we need to go back to our original repository and make some more commits."
   ]
  },
  {
   "cell_type": "markdown",
   "metadata": {},
   "source": [
    "## Pulls"
   ]
  },
  {
   "cell_type": "markdown",
   "metadata": {},
   "source": [
    "We are now going to go back to our original repository and add some commits to it.  Then we are going to `pull` those commits into our clone."
   ]
  },
  {
   "cell_type": "code",
   "execution_count": 9,
   "metadata": {},
   "outputs": [],
   "source": [
    "cd ~/my_project"
   ]
  },
  {
   "cell_type": "code",
   "execution_count": 10,
   "metadata": {},
   "outputs": [],
   "source": [
    "echo \"Even more text.\" >> file2.txt"
   ]
  },
  {
   "cell_type": "code",
   "execution_count": 11,
   "metadata": {},
   "outputs": [],
   "source": [
    "git add file2.txt"
   ]
  },
  {
   "cell_type": "code",
   "execution_count": 12,
   "metadata": {},
   "outputs": [
    {
     "name": "stdout",
     "output_type": "stream",
     "text": [
      "[master 4139ed8] Adding even more text to file2.\n",
      " 1 file changed, 1 insertion(+)\n"
     ]
    }
   ],
   "source": [
    "git commit -m \"Adding even more text to file2.\""
   ]
  },
  {
   "cell_type": "code",
   "execution_count": 13,
   "metadata": {},
   "outputs": [
    {
     "name": "stdout",
     "output_type": "stream",
     "text": [
      "\u001b[33m4139ed8\u001b[m\u001b[33m (\u001b[m\u001b[1;36mHEAD -> \u001b[m\u001b[1;32mmaster\u001b[m\u001b[33m)\u001b[m Adding even more text to file2.\n",
      "\u001b[33m7ac1923\u001b[m Merging feature into master.\n",
      "\u001b[33mefd779d\u001b[m Modifying file2.\n",
      "\u001b[33mde51d09\u001b[m Adding file3.\n",
      "\u001b[33mcb3f2ae\u001b[m Modifying file1.\n",
      "\u001b[33m170158a\u001b[m Adding file2.\n",
      "\u001b[33mea41f20\u001b[m Adding file1\n"
     ]
    }
   ],
   "source": [
    "git log --oneline"
   ]
  },
  {
   "cell_type": "markdown",
   "metadata": {},
   "source": [
    "Now let's go back to our clone and see if anything changed."
   ]
  },
  {
   "cell_type": "code",
   "execution_count": 14,
   "metadata": {},
   "outputs": [],
   "source": [
    "cd ~/my_clone"
   ]
  },
  {
   "cell_type": "code",
   "execution_count": 15,
   "metadata": {},
   "outputs": [
    {
     "name": "stdout",
     "output_type": "stream",
     "text": [
      "\u001b[33m7ac1923\u001b[m\u001b[33m (\u001b[m\u001b[1;36mHEAD -> \u001b[m\u001b[1;32mmaster\u001b[m\u001b[33m, \u001b[m\u001b[1;31morigin/master\u001b[m\u001b[33m, \u001b[m\u001b[1;31morigin/HEAD\u001b[m\u001b[33m)\u001b[m Merging feature into master.\n",
      "\u001b[33mefd779d\u001b[m Modifying file2.\n",
      "\u001b[33mde51d09\u001b[m Adding file3.\n",
      "\u001b[33mcb3f2ae\u001b[m Modifying file1.\n",
      "\u001b[33m170158a\u001b[m Adding file2.\n",
      "\u001b[33mea41f20\u001b[m Adding file1\n"
     ]
    }
   ],
   "source": [
    "git log --oneline"
   ]
  },
  {
   "cell_type": "markdown",
   "metadata": {},
   "source": [
    "Notice that things haven't changed in our clone.  But the new commit we added to the `origin` repository doesn't show up.\n",
    "\n",
    "To get the new commit into `my_project` into our clone, we need to do a `git pull`."
   ]
  },
  {
   "cell_type": "code",
   "execution_count": 16,
   "metadata": {},
   "outputs": [
    {
     "name": "stdout",
     "output_type": "stream",
     "text": [
      "remote: Enumerating objects: 5, done.\u001b[K\n",
      "remote: Counting objects: 100% (5/5), done.\u001b[K\n",
      "remote: Compressing objects: 100% (3/3), done.\u001b[K\n",
      "remote: Total 3 (delta 0), reused 0 (delta 0)\u001b[K\n",
      "Unpacking objects: 100% (3/3), done.\n",
      "From /Users/kpaul/my_project\n",
      "   7ac1923..4139ed8  master     -> origin/master\n",
      "Updating 7ac1923..4139ed8\n",
      "Fast-forward\n",
      " file2.txt | 1 \u001b[32m+\u001b[m\n",
      " 1 file changed, 1 insertion(+)\n"
     ]
    }
   ],
   "source": [
    "git pull"
   ]
  },
  {
   "cell_type": "code",
   "execution_count": 17,
   "metadata": {},
   "outputs": [
    {
     "name": "stdout",
     "output_type": "stream",
     "text": [
      "\u001b[33m4139ed8\u001b[m\u001b[33m (\u001b[m\u001b[1;36mHEAD -> \u001b[m\u001b[1;32mmaster\u001b[m\u001b[33m, \u001b[m\u001b[1;31morigin/master\u001b[m\u001b[33m, \u001b[m\u001b[1;31morigin/HEAD\u001b[m\u001b[33m)\u001b[m Adding even more text to file2.\n",
      "\u001b[33m7ac1923\u001b[m Merging feature into master.\n",
      "\u001b[33mefd779d\u001b[m Modifying file2.\n",
      "\u001b[33mde51d09\u001b[m Adding file3.\n",
      "\u001b[33mcb3f2ae\u001b[m Modifying file1.\n",
      "\u001b[33m170158a\u001b[m Adding file2.\n",
      "\u001b[33mea41f20\u001b[m Adding file1\n"
     ]
    }
   ],
   "source": [
    "git log --oneline"
   ]
  },
  {
   "cell_type": "markdown",
   "metadata": {},
   "source": [
    "Now our new commit shows up and has been added to our clone."
   ]
  },
  {
   "cell_type": "markdown",
   "metadata": {},
   "source": [
    "What happens if we add commits to our clone, though?"
   ]
  },
  {
   "cell_type": "markdown",
   "metadata": {},
   "source": [
    "## Pushes"
   ]
  },
  {
   "cell_type": "markdown",
   "metadata": {},
   "source": [
    "Let's now make a commit to our clone."
   ]
  },
  {
   "cell_type": "code",
   "execution_count": 18,
   "metadata": {},
   "outputs": [],
   "source": [
    "echo \"Random text\" >> file3.txt"
   ]
  },
  {
   "cell_type": "code",
   "execution_count": 19,
   "metadata": {},
   "outputs": [],
   "source": [
    "git add file3.txt"
   ]
  },
  {
   "cell_type": "code",
   "execution_count": 20,
   "metadata": {},
   "outputs": [
    {
     "name": "stdout",
     "output_type": "stream",
     "text": [
      "[master 62d9405] Adding random text to file3.\n",
      " 1 file changed, 1 insertion(+)\n"
     ]
    }
   ],
   "source": [
    "git commit -m \"Adding random text to file3.\""
   ]
  },
  {
   "cell_type": "markdown",
   "metadata": {},
   "source": [
    "Let's check the status of our clone."
   ]
  },
  {
   "cell_type": "code",
   "execution_count": 21,
   "metadata": {},
   "outputs": [
    {
     "name": "stdout",
     "output_type": "stream",
     "text": [
      "On branch master\n",
      "Your branch is ahead of 'origin/master' by 1 commit.\n",
      "  (use \"git push\" to publish your local commits)\n",
      "\n",
      "nothing to commit, working tree clean\n"
     ]
    }
   ],
   "source": [
    "git status"
   ]
  },
  {
   "cell_type": "markdown",
   "metadata": {},
   "source": [
    "The `master` branch on our clone points to the `master` branch on the `origin`, and we can see from the status message that our clone is 1 commit ahead of `origin/master`.  To send the commits we made to our clone to the `origin`, we just need to `git push` them. ...sort of.\n",
    "\n",
    "Unfortunately, you can't just do a simple `git push` because the `origin` repository currently has the `master` branch checked out.  So, instead, we say that we are going to `push` the clone's `master` branch into a new branch called `newbranch` on the `origin` repository."
   ]
  },
  {
   "cell_type": "code",
   "execution_count": 22,
   "metadata": {},
   "outputs": [
    {
     "name": "stdout",
     "output_type": "stream",
     "text": [
      "Enumerating objects: 5, done.\n",
      "Counting objects: 100% (5/5), done.\n",
      "Delta compression using up to 4 threads\n",
      "Compressing objects: 100% (2/2), done.\n",
      "Writing objects: 100% (3/3), 291 bytes | 291.00 KiB/s, done.\n",
      "Total 3 (delta 1), reused 0 (delta 0)\n",
      "To /Users/kpaul/my_project\n",
      " * [new branch]      master -> newbranch\n"
     ]
    }
   ],
   "source": [
    "git push origin master:newbranch"
   ]
  },
  {
   "cell_type": "markdown",
   "metadata": {},
   "source": [
    "Now, if we go back to our `origin` repository and look at our branches, we see the following."
   ]
  },
  {
   "cell_type": "code",
   "execution_count": 23,
   "metadata": {},
   "outputs": [],
   "source": [
    "cd ~/my_project"
   ]
  },
  {
   "cell_type": "code",
   "execution_count": 24,
   "metadata": {},
   "outputs": [
    {
     "name": "stdout",
     "output_type": "stream",
     "text": [
      "* \u001b[32mmaster\u001b[m\n",
      "  newbranch\u001b[m\n"
     ]
    }
   ],
   "source": [
    "git branch"
   ]
  },
  {
   "cell_type": "markdown",
   "metadata": {},
   "source": [
    "And to get the new change into the `origin/master` branch, we just have to merge."
   ]
  },
  {
   "cell_type": "code",
   "execution_count": 25,
   "metadata": {},
   "outputs": [
    {
     "name": "stdout",
     "output_type": "stream",
     "text": [
      "Updating 4139ed8..62d9405\n",
      "Fast-forward\n",
      " file3.txt | 1 \u001b[32m+\u001b[m\n",
      " 1 file changed, 1 insertion(+)\n"
     ]
    }
   ],
   "source": [
    "git merge newbranch"
   ]
  },
  {
   "cell_type": "code",
   "execution_count": 26,
   "metadata": {},
   "outputs": [
    {
     "name": "stdout",
     "output_type": "stream",
     "text": [
      "Deleted branch newbranch (was 62d9405).\n"
     ]
    }
   ],
   "source": [
    "git branch -d newbranch"
   ]
  },
  {
   "cell_type": "code",
   "execution_count": 27,
   "metadata": {},
   "outputs": [
    {
     "name": "stdout",
     "output_type": "stream",
     "text": [
      "\u001b[33m62d9405\u001b[m\u001b[33m (\u001b[m\u001b[1;36mHEAD -> \u001b[m\u001b[1;32mmaster\u001b[m\u001b[33m)\u001b[m Adding random text to file3.\n",
      "\u001b[33m4139ed8\u001b[m Adding even more text to file2.\n",
      "\u001b[33m7ac1923\u001b[m Merging feature into master.\n",
      "\u001b[33mefd779d\u001b[m Modifying file2.\n",
      "\u001b[33mde51d09\u001b[m Adding file3.\n",
      "\u001b[33mcb3f2ae\u001b[m Modifying file1.\n",
      "\u001b[33m170158a\u001b[m Adding file2.\n",
      "\u001b[33mea41f20\u001b[m Adding file1\n"
     ]
    }
   ],
   "source": [
    "git log --oneline"
   ]
  },
  {
   "cell_type": "markdown",
   "metadata": {},
   "source": [
    "And we can now see that the new change we made to the clone has been _pushed_ up to the `origin` repository."
   ]
  },
  {
   "cell_type": "markdown",
   "metadata": {},
   "source": [
    "## \"Pull Requests\""
   ]
  },
  {
   "cell_type": "markdown",
   "metadata": {},
   "source": [
    "Why couldn't we just do a simple `git push` like we could do a `git pull`?  Why did it have to get so complicated?\n",
    "\n",
    "The answer to that hase to do with how Git repositories are supposed to work, and how to keep them _safe_ from external _pushes_ while you are doing work in them.  Image that you were doing some work in your repository, and some one else cloned your repository and tried to push changes back into yours.  You might immediately see conflicts show up and other weird behaviors that might be hard to predict.  So, to prevent that scenario from happening, Git prevents you from _pushing_ changes into an existing repository if the branch into which the changes are being pushed has been checked out.  \n",
    "\n",
    "One solution to this complication is what we did above: you can push into a new branch, and create the branch \"on the fly.\"  Another solution is to make sure the `origin` repository is a _bare_ repository.  A _bare_ repository is, essentially, just the `.git` directory in your repository directory; that is, there is no place for files to be \"checked out,\" so there is no branch that can ever be checked out.  (To visualize this, instead of having our `my_project/.git` directory structure, imagine that we simply had `my_project.git`.)  As long as there are no branches checked out, there will never be any weird synching behavior when someone pushes their commits to the `origin` repository.  (Repositories on GitHub are all _bare_ repositories.)\n",
    "\n",
    "In general, though, it is usually much easier to just `pull`.  And you can set up the `origin` repository to have `fetch` capabilities from the clone repository.  Then, all you need to do is tell the owner of the `origin` repository that you have some changes they might want to `pull` into their repository.  This is called a _Pull Request_, and it is a procedure that is made incredibly easy by GitHub."
   ]
  }
 ],
 "metadata": {
  "kernelspec": {
   "display_name": "Bash",
   "language": "bash",
   "name": "bash"
  },
  "language_info": {
   "codemirror_mode": "shell",
   "file_extension": ".sh",
   "mimetype": "text/x-sh",
   "name": "bash"
  }
 },
 "nbformat": 4,
 "nbformat_minor": 2
}
