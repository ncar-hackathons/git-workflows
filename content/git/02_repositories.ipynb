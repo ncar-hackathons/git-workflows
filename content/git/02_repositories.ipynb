{
 "cells": [
  {
   "cell_type": "markdown",
   "metadata": {},
   "source": [
    "![](../images/git-logo.png)\n",
    "# Repositories\n",
    "\n",
    "As we've already mentioned, _repositories_ are the containers for your work, the work\n",
    "you want _tracked_ by Git.  Let's create some work and see what a _repository_ is,\n",
    "in practice."
   ]
  },
  {
   "cell_type": "markdown",
   "metadata": {},
   "source": [
    "## Creating a sample project"
   ]
  },
  {
   "cell_type": "markdown",
   "metadata": {},
   "source": [
    "Let's go to a safe place where we can practice creating a Git repository."
   ]
  },
  {
   "cell_type": "code",
   "execution_count": 1,
   "metadata": {},
   "outputs": [],
   "source": [
    "cd"
   ]
  },
  {
   "cell_type": "markdown",
   "metadata": {},
   "source": [
    "(If we have already run this notebook before, let's delete the old project and start over...)"
   ]
  },
  {
   "cell_type": "code",
   "execution_count": 2,
   "metadata": {},
   "outputs": [],
   "source": [
    "if [ -d \"my_project\" ]; then\n",
    "  rm -rf my_project\n",
    "fi"
   ]
  },
  {
   "cell_type": "markdown",
   "metadata": {},
   "source": [
    "Now, let's create a new directory called `my_project` and then add a new text file to it."
   ]
  },
  {
   "cell_type": "code",
   "execution_count": 3,
   "metadata": {},
   "outputs": [],
   "source": [
    "mkdir my_project\n",
    "cd my_project\n",
    "echo \"This is some text.\" > file1.txt"
   ]
  },
  {
   "cell_type": "markdown",
   "metadata": {},
   "source": [
    "Just to be sure we know what we've done, let's see what directory we are currently in."
   ]
  },
  {
   "cell_type": "code",
   "execution_count": 4,
   "metadata": {},
   "outputs": [
    {
     "name": "stdout",
     "output_type": "stream",
     "text": [
      "/Users/kpaul/my_project\n"
     ]
    }
   ],
   "source": [
    "pwd"
   ]
  },
  {
   "cell_type": "markdown",
   "metadata": {},
   "source": [
    "and then let's verify that we created the new `file1.txt`."
   ]
  },
  {
   "cell_type": "code",
   "execution_count": 5,
   "metadata": {},
   "outputs": [
    {
     "name": "stdout",
     "output_type": "stream",
     "text": [
      "\u001b[1m\u001b[36m.\u001b[39;49m\u001b[0m         \u001b[1m\u001b[36m..\u001b[39;49m\u001b[0m        file1.txt\n"
     ]
    }
   ],
   "source": [
    "ls -a"
   ]
  },
  {
   "cell_type": "markdown",
   "metadata": {},
   "source": [
    "This will be our sample \"project.\""
   ]
  },
  {
   "cell_type": "markdown",
   "metadata": {},
   "source": [
    "## Get ready for Git"
   ]
  },
  {
   "cell_type": "markdown",
   "metadata": {},
   "source": [
    "Before you use Git for the first time, you should make sure it is installed on your system.  We will do so by trying to check the version of Git installed."
   ]
  },
  {
   "cell_type": "code",
   "execution_count": 6,
   "metadata": {},
   "outputs": [
    {
     "name": "stdout",
     "output_type": "stream",
     "text": [
      "git version 2.20.1 (Apple Git-117)\n"
     ]
    }
   ],
   "source": [
    "git --version"
   ]
  },
  {
   "cell_type": "markdown",
   "metadata": {},
   "source": [
    "Next, you should check that your name and email are known by git, so that it can identify you as the author of changes that you commit to the repository."
   ]
  },
  {
   "cell_type": "code",
   "execution_count": 7,
   "metadata": {},
   "outputs": [
    {
     "name": "stdout",
     "output_type": "stream",
     "text": [
      "Kevin Paul\n",
      "kpaul@ucar.edu\n"
     ]
    }
   ],
   "source": [
    "git config --global --get user.name\n",
    "git config --global --get user.email"
   ]
  },
  {
   "cell_type": "markdown",
   "metadata": {},
   "source": [
    "If you don't see 2 lines of text above, or one of the lines is empty, then either your name or email has not been set.  You should set it so that Git can identify you as author of your commits.\n",
    "\n",
    "To set these parameters, execute the following code (with the appropriate changes) in the empty cell below:\n",
    "\n",
    "```bash\n",
    "git config --global user.name \"Your Name\"\n",
    "git config --global user.email you@domain.example.com\n",
    "```"
   ]
  },
  {
   "cell_type": "code",
   "execution_count": null,
   "metadata": {},
   "outputs": [],
   "source": []
  },
  {
   "cell_type": "markdown",
   "metadata": {},
   "source": [
    "## Turn your directory into a repository"
   ]
  },
  {
   "cell_type": "markdown",
   "metadata": {},
   "source": [
    "Now, we can turn on _version-control_ (or enable _tracking_) in our project directory by converting our project directory in a _repository_.  With Git, we do that with the following."
   ]
  },
  {
   "cell_type": "code",
   "execution_count": 8,
   "metadata": {},
   "outputs": [
    {
     "name": "stdout",
     "output_type": "stream",
     "text": [
      "Initialized empty Git repository in /Users/kpaul/my_project/.git/\n"
     ]
    }
   ],
   "source": [
    "git init ."
   ]
  },
  {
   "cell_type": "markdown",
   "metadata": {},
   "source": [
    "Now, notice that a new sub-directory called `.git` has been created in your project directory."
   ]
  },
  {
   "cell_type": "code",
   "execution_count": 9,
   "metadata": {},
   "outputs": [
    {
     "name": "stdout",
     "output_type": "stream",
     "text": [
      "\u001b[1m\u001b[36m.\u001b[39;49m\u001b[0m         \u001b[1m\u001b[36m..\u001b[39;49m\u001b[0m        \u001b[1m\u001b[36m.git\u001b[39;49m\u001b[0m      file1.txt\n"
     ]
    }
   ],
   "source": [
    "ls -a"
   ]
  },
  {
   "cell_type": "markdown",
   "metadata": {},
   "source": [
    "This new directory contains the _tracked history_ of your Git repository.  ...And yes, your project directory has now become a Git repository!"
   ]
  },
  {
   "cell_type": "markdown",
   "metadata": {},
   "source": [
    "However, even though there is a file in your project directory, the file has not been added to your repository.  You have to do that explicitly.  That is, you can have files or directories in your directory that are not _tracked_ by Git.  In fact, that is the default.  You need to explicitly add these files (or changes to files) to Git."
   ]
  },
  {
   "cell_type": "markdown",
   "metadata": {},
   "source": [
    "Let's look at the status of our new Git repository:"
   ]
  },
  {
   "cell_type": "code",
   "execution_count": 10,
   "metadata": {},
   "outputs": [
    {
     "name": "stdout",
     "output_type": "stream",
     "text": [
      "On branch master\n",
      "\n",
      "No commits yet\n",
      "\n",
      "Untracked files:\n",
      "  (use \"git add <file>...\" to include in what will be committed)\n",
      "\n",
      "\t\u001b[31mfile1.txt\u001b[m\n",
      "\n",
      "nothing added to commit but untracked files present (use \"git add\" to track)\n"
     ]
    }
   ],
   "source": [
    "git status"
   ]
  },
  {
   "cell_type": "markdown",
   "metadata": {},
   "source": [
    "This is a great command!  It tells you _a lot_!  So, use it frequently!  Let's see what it tells us:\n",
    "\n",
    "1. It tells us what _branch_ we are on in our repository.  ...What's a _branch_?  We'll get to that in a bit, but for now, think of all of the changes made in your repository being saved to a single, _linear_ history.  And we call that _main_ history the _master branch_.\n",
    "\n",
    "2. It tells you where you are in the history.  Currently, there have been _no changes_ committed to your Git history.  (\"No commits yet\")\n",
    "\n",
    "3. It tells you that there are untracked files that you haven't added to your Git repository, and it tells you which files are untracked.\n",
    "\n",
    "4. It gives you helpful hints about what to do next.  In this case, it tells you to add the untracked files to your Git repository."
   ]
  },
  {
   "cell_type": "markdown",
   "metadata": {},
   "source": [
    "So, let's add our new file to the repository."
   ]
  },
  {
   "cell_type": "code",
   "execution_count": 11,
   "metadata": {},
   "outputs": [],
   "source": [
    "git add file1.txt"
   ]
  },
  {
   "cell_type": "markdown",
   "metadata": {},
   "source": [
    "Great!  We're rolling now!\n",
    "\n",
    "Let's check the status again to see how awesome we are!"
   ]
  },
  {
   "cell_type": "code",
   "execution_count": 12,
   "metadata": {},
   "outputs": [
    {
     "name": "stdout",
     "output_type": "stream",
     "text": [
      "On branch master\n",
      "\n",
      "No commits yet\n",
      "\n",
      "Changes to be committed:\n",
      "  (use \"git rm --cached <file>...\" to unstage)\n",
      "\n",
      "\t\u001b[32mnew file:   file1.txt\u001b[m\n",
      "\n"
     ]
    }
   ],
   "source": [
    "git status"
   ]
  },
  {
   "cell_type": "markdown",
   "metadata": {},
   "source": [
    "Hmm.  Ok.  Now the status tells us that we've added the file to our repository (i.e., it is being tracked), but now it needs to be _committed_?\n",
    "\n",
    "Yes.  You've _marked_ the file `file1.txt` to be tracked, and now you need to actually commit the _changes_ to the repository (i.e., the creation of the file and its contents).\n",
    "\n",
    "This is how Git works for _everything_.  What you've just done, in Git terminology, is that you've _staged_ changes to be added to your repository by using `git add`.  However, they don't actually get added to the repository until you actually _commit_ them.\n",
    "\n",
    "**Note:** The status message also tells you that you can _unstage_ your new changes by using `git rm --cached file1.txt`.  That will mark your `file1.txt` file as _not_ to be tracked.\n",
    "\n",
    "So, let's commit our staged changes."
   ]
  },
  {
   "cell_type": "code",
   "execution_count": 13,
   "metadata": {},
   "outputs": [
    {
     "name": "stdout",
     "output_type": "stream",
     "text": [
      "[master (root-commit) 6365179] Adding file1\n",
      " 1 file changed, 1 insertion(+)\n",
      " create mode 100644 file1.txt\n"
     ]
    }
   ],
   "source": [
    "git commit -m \"Adding file1\""
   ]
  },
  {
   "cell_type": "markdown",
   "metadata": {},
   "source": [
    "And, again with the status..."
   ]
  },
  {
   "cell_type": "code",
   "execution_count": 14,
   "metadata": {},
   "outputs": [
    {
     "name": "stdout",
     "output_type": "stream",
     "text": [
      "On branch master\n",
      "nothing to commit, working tree clean\n"
     ]
    }
   ],
   "source": [
    "git status"
   ]
  },
  {
   "cell_type": "markdown",
   "metadata": {},
   "source": [
    "Now everything in our project directory has been added to our repository."
   ]
  },
  {
   "cell_type": "markdown",
   "metadata": {},
   "source": [
    "**Note:** Above, we used `git commit ... -m \"Commit message\"` syntax.  You do not need to use the `-m` option.  If you leave this option off (along with the commit message), then Git will open your selected text editor indicated by the `core.editor` config option.  You can set the editor that you want to use with:\n",
    "\n",
    "```bash\n",
    "git config --global core.editor [vi | vim | emacs | nano | ...] # Choose your editor!\n",
    "```"
   ]
  },
  {
   "cell_type": "markdown",
   "metadata": {},
   "source": [
    "## Adding changes"
   ]
  },
  {
   "cell_type": "markdown",
   "metadata": {},
   "source": [
    "Obviously, the point of using a VCS like Git, though, is that it tracks changes.  Not just \"saves files.\"  So, we need to make some changes in our repository, stage those changes, and then commit them to the repository.\n",
    "\n",
    "Let's make a couple changes and stage them for addition to the repository."
   ]
  },
  {
   "cell_type": "code",
   "execution_count": 15,
   "metadata": {},
   "outputs": [
    {
     "name": "stdout",
     "output_type": "stream",
     "text": [
      "This is some text.\n",
      "\n",
      "And here's some more text.\n"
     ]
    }
   ],
   "source": [
    "echo \"\" >> file1.txt\n",
    "echo \"And here's some more text.\" >> file1.txt\n",
    "cat file1.txt"
   ]
  },
  {
   "cell_type": "code",
   "execution_count": 16,
   "metadata": {},
   "outputs": [
    {
     "name": "stdout",
     "output_type": "stream",
     "text": [
      "On branch master\n",
      "Changes not staged for commit:\n",
      "  (use \"git add <file>...\" to update what will be committed)\n",
      "  (use \"git checkout -- <file>...\" to discard changes in working directory)\n",
      "\n",
      "\t\u001b[31mmodified:   file1.txt\u001b[m\n",
      "\n",
      "no changes added to commit (use \"git add\" and/or \"git commit -a\")\n"
     ]
    }
   ],
   "source": [
    "git status"
   ]
  },
  {
   "cell_type": "markdown",
   "metadata": {},
   "source": [
    "Now, the status tells us that `file1.txt` has been modified.  And you follow the same procedure as before to stage the changes."
   ]
  },
  {
   "cell_type": "code",
   "execution_count": 17,
   "metadata": {},
   "outputs": [],
   "source": [
    "git add file1.txt"
   ]
  },
  {
   "cell_type": "code",
   "execution_count": 18,
   "metadata": {},
   "outputs": [
    {
     "name": "stdout",
     "output_type": "stream",
     "text": [
      "On branch master\n",
      "Changes to be committed:\n",
      "  (use \"git reset HEAD <file>...\" to unstage)\n",
      "\n",
      "\t\u001b[32mmodified:   file1.txt\u001b[m\n",
      "\n"
     ]
    }
   ],
   "source": [
    "git status"
   ]
  },
  {
   "cell_type": "markdown",
   "metadata": {},
   "source": [
    "Again, we need to _commit_ these changes to the repository in order to save them.\n",
    "\n",
    "But we're not going to do that just yet.  Let's create another file and stage it for addition to the repository."
   ]
  },
  {
   "cell_type": "code",
   "execution_count": 19,
   "metadata": {},
   "outputs": [],
   "source": [
    "echo \"This is a new file.\" > file2.txt"
   ]
  },
  {
   "cell_type": "code",
   "execution_count": 20,
   "metadata": {},
   "outputs": [],
   "source": [
    "git add file2.txt"
   ]
  },
  {
   "cell_type": "code",
   "execution_count": 21,
   "metadata": {},
   "outputs": [
    {
     "name": "stdout",
     "output_type": "stream",
     "text": [
      "On branch master\n",
      "Changes to be committed:\n",
      "  (use \"git reset HEAD <file>...\" to unstage)\n",
      "\n",
      "\t\u001b[32mmodified:   file1.txt\u001b[m\n",
      "\t\u001b[32mnew file:   file2.txt\u001b[m\n",
      "\n"
     ]
    }
   ],
   "source": [
    "git status"
   ]
  },
  {
   "cell_type": "markdown",
   "metadata": {},
   "source": [
    "Now, you can see that we have 2 changes that are staged.  And we can commit _both_ of these changes with a single commit, like so:\n",
    "\n",
    "```bash\n",
    "git commit -m \"Modifying file1 and adding file2.\"\n",
    "```\n",
    "\n",
    "But this is actually _bad practice_.  Okay, nobody is going to punish you for doing this, but it is generally considered good practice to give each _independent_ change its own commit.  If the changes that I made to `file1.txt` were related to the addition of `file2.txt`, then I would commit them both with one commit.  And, I probably would use a different commit message referring to the \"higher-level thing\" that I was trying to accomplish.  But, in this case, the two changes are independent, so we _should_ commit them with independent commits.\n",
    "\n",
    "**Note:** A good sign of independent changes is the use of \"and\" in your commit message.  Look for that and stop yourself if you see yourself doing it!\n",
    "\n",
    "...And, interestingly, we can commit them in any order we see fit."
   ]
  },
  {
   "cell_type": "code",
   "execution_count": 22,
   "metadata": {},
   "outputs": [
    {
     "name": "stdout",
     "output_type": "stream",
     "text": [
      "[master f51c712] Adding file2.\n",
      " 1 file changed, 1 insertion(+)\n",
      " create mode 100644 file2.txt\n"
     ]
    }
   ],
   "source": [
    "git commit file2.txt -m \"Adding file2.\""
   ]
  },
  {
   "cell_type": "code",
   "execution_count": 23,
   "metadata": {},
   "outputs": [
    {
     "name": "stdout",
     "output_type": "stream",
     "text": [
      "On branch master\n",
      "Changes to be committed:\n",
      "  (use \"git reset HEAD <file>...\" to unstage)\n",
      "\n",
      "\t\u001b[32mmodified:   file1.txt\u001b[m\n",
      "\n"
     ]
    }
   ],
   "source": [
    "git status"
   ]
  },
  {
   "cell_type": "code",
   "execution_count": 24,
   "metadata": {},
   "outputs": [
    {
     "name": "stdout",
     "output_type": "stream",
     "text": [
      "[master d02d734] Modifying file1.\n",
      " 1 file changed, 2 insertions(+)\n"
     ]
    }
   ],
   "source": [
    "git commit file1.txt -m \"Modifying file1.\""
   ]
  },
  {
   "cell_type": "code",
   "execution_count": 25,
   "metadata": {},
   "outputs": [
    {
     "name": "stdout",
     "output_type": "stream",
     "text": [
      "On branch master\n",
      "nothing to commit, working tree clean\n"
     ]
    }
   ],
   "source": [
    "git status"
   ]
  },
  {
   "cell_type": "markdown",
   "metadata": {},
   "source": [
    "And that's it.  Even though we actually performed the changes in a different order, we committed them in the order we chose.  They were independent changes, so it didn't matter."
   ]
  },
  {
   "cell_type": "markdown",
   "metadata": {},
   "source": [
    "## Looking at the history"
   ]
  },
  {
   "cell_type": "markdown",
   "metadata": {},
   "source": [
    "All of the changes that you've committed to your repository can be listed with the `git log` command."
   ]
  },
  {
   "cell_type": "code",
   "execution_count": 26,
   "metadata": {},
   "outputs": [
    {
     "name": "stdout",
     "output_type": "stream",
     "text": [
      "\u001b[33mcommit d02d7340ceed644dd8a005dfaa697149ccccca61\u001b[m\u001b[33m (\u001b[m\u001b[1;36mHEAD -> \u001b[m\u001b[1;32mmaster\u001b[m\u001b[33m)\u001b[m\n",
      "Author: Kevin Paul <kpaul@ucar.edu>\n",
      "Date:   Wed May 29 09:03:33 2019 -0600\n",
      "\n",
      "    Modifying file1.\n",
      "\n",
      "\u001b[33mcommit f51c7127966a64024fd14765411dda84e54ec17c\u001b[m\n",
      "Author: Kevin Paul <kpaul@ucar.edu>\n",
      "Date:   Wed May 29 09:03:32 2019 -0600\n",
      "\n",
      "    Adding file2.\n",
      "\n",
      "\u001b[33mcommit 6365179a66312cf2bcc4f1ff127f5b74d30a498b\u001b[m\n",
      "Author: Kevin Paul <kpaul@ucar.edu>\n",
      "Date:   Wed May 29 09:03:28 2019 -0600\n",
      "\n",
      "    Adding file1\n"
     ]
    }
   ],
   "source": [
    "git log"
   ]
  },
  {
   "cell_type": "markdown",
   "metadata": {},
   "source": [
    "And you can see that the latest commit is listed first, and the rest listed in reverse chronological order.  The random characters following the `commit` text are the _unique hash_ identifying the commit.  You can specify commits using this _hash_ string, or just the first characters of the hash that uniquely identify it.\n",
    "\n",
    "Also, under each commit's information (Author, Date) it lists the commit message."
   ]
  },
  {
   "cell_type": "markdown",
   "metadata": {},
   "source": [
    "If the history gets long, it can be nice to print the history in a more \"dense\" format."
   ]
  },
  {
   "cell_type": "code",
   "execution_count": 27,
   "metadata": {},
   "outputs": [
    {
     "name": "stdout",
     "output_type": "stream",
     "text": [
      "\u001b[33md02d734\u001b[m\u001b[33m (\u001b[m\u001b[1;36mHEAD -> \u001b[m\u001b[1;32mmaster\u001b[m\u001b[33m)\u001b[m Modifying file1.\n",
      "\u001b[33mf51c712\u001b[m Adding file2.\n",
      "\u001b[33m6365179\u001b[m Adding file1\n"
     ]
    }
   ],
   "source": [
    "git log --oneline"
   ]
  },
  {
   "cell_type": "markdown",
   "metadata": {},
   "source": [
    "You can also get just the history of a particular file (or directory) in your repository."
   ]
  },
  {
   "cell_type": "code",
   "execution_count": 28,
   "metadata": {},
   "outputs": [
    {
     "name": "stdout",
     "output_type": "stream",
     "text": [
      "\u001b[33mcommit d02d7340ceed644dd8a005dfaa697149ccccca61\u001b[m\u001b[33m (\u001b[m\u001b[1;36mHEAD -> \u001b[m\u001b[1;32mmaster\u001b[m\u001b[33m)\u001b[m\n",
      "Author: Kevin Paul <kpaul@ucar.edu>\n",
      "Date:   Wed May 29 09:03:33 2019 -0600\n",
      "\n",
      "    Modifying file1.\n",
      "\n",
      "\u001b[33mcommit 6365179a66312cf2bcc4f1ff127f5b74d30a498b\u001b[m\n",
      "Author: Kevin Paul <kpaul@ucar.edu>\n",
      "Date:   Wed May 29 09:03:28 2019 -0600\n",
      "\n",
      "    Adding file1\n"
     ]
    }
   ],
   "source": [
    "git log file1.txt"
   ]
  },
  {
   "cell_type": "markdown",
   "metadata": {},
   "source": [
    "There are _lots_ of ways of using `git log` and I recommend looking around online or in the help for tips.\n",
    "\n",
    "```bash\n",
    "git log --help\n",
    "```"
   ]
  },
  {
   "cell_type": "markdown",
   "metadata": {},
   "source": [
    "## Rewinding to the past"
   ]
  },
  {
   "cell_type": "markdown",
   "metadata": {},
   "source": [
    "We can \"rewind\" our repository back to any point in the history.  To do this, we just look at the commit hash and do a `git checkout`.\n",
    "\n",
    "Find the commit hash for the commit with the message `Adding file1`.  (We'll use a neat feature of `git log` to do this for us.)"
   ]
  },
  {
   "cell_type": "code",
   "execution_count": 29,
   "metadata": {},
   "outputs": [
    {
     "name": "stdout",
     "output_type": "stream",
     "text": [
      "\u001b[33mcommit 6365179a66312cf2bcc4f1ff127f5b74d30a498b\u001b[m\n",
      "Author: Kevin Paul <kpaul@ucar.edu>\n",
      "Date:   Wed May 29 09:03:28 2019 -0600\n",
      "\n",
      "    Adding file1\n"
     ]
    }
   ],
   "source": [
    "git log --all --grep='Adding file1'"
   ]
  },
  {
   "cell_type": "markdown",
   "metadata": {},
   "source": [
    "Now, select the 1st 6 characters from the commit hash and use it in the `git checkout` command below:"
   ]
  },
  {
   "cell_type": "code",
   "execution_count": 30,
   "metadata": {},
   "outputs": [
    {
     "name": "stdout",
     "output_type": "stream",
     "text": [
      "Note: checking out '636517'.\n",
      "\n",
      "You are in 'detached HEAD' state. You can look around, make experimental\n",
      "changes and commit them, and you can discard any commits you make in this\n",
      "state without impacting any branches by performing another checkout.\n",
      "\n",
      "If you want to create a new branch to retain commits you create, you may\n",
      "do so (now or later) by using -b with the checkout command again. Example:\n",
      "\n",
      "  git checkout -b <new-branch-name>\n",
      "\n",
      "HEAD is now at 6365179 Adding file1\n"
     ]
    }
   ],
   "source": [
    "git checkout 636517"
   ]
  },
  {
   "cell_type": "code",
   "execution_count": 31,
   "metadata": {},
   "outputs": [
    {
     "name": "stdout",
     "output_type": "stream",
     "text": [
      "\u001b[1m\u001b[36m.\u001b[39;49m\u001b[0m         \u001b[1m\u001b[36m..\u001b[39;49m\u001b[0m        \u001b[1m\u001b[36m.git\u001b[39;49m\u001b[0m      file1.txt\n"
     ]
    }
   ],
   "source": [
    "ls -a"
   ]
  },
  {
   "cell_type": "code",
   "execution_count": 32,
   "metadata": {},
   "outputs": [
    {
     "name": "stdout",
     "output_type": "stream",
     "text": [
      "This is some text.\n"
     ]
    }
   ],
   "source": [
    "cat file1.txt"
   ]
  },
  {
   "cell_type": "markdown",
   "metadata": {},
   "source": [
    "And now we are back to the point in our repository after we first created `file1.txt`!\n",
    "\n",
    "Note that after the `checkout`, we received a message saying we are in \"detached HEAD\" state.  This means that we cannot make and commits at this point in the history.  (In other words, we cannot _simple_ insert commits into the middle of an existing history.  We can only add them at the end.)\n",
    "\n",
    "**Note:** Actually, Git _does_ let you insert commits, but it is very complicated and beyond the scope of this tutorial.\n",
    "\n",
    "To get back to the present (i.e., the \"HEAD\") we do:"
   ]
  },
  {
   "cell_type": "code",
   "execution_count": 33,
   "metadata": {},
   "outputs": [
    {
     "name": "stdout",
     "output_type": "stream",
     "text": [
      "Previous HEAD position was 6365179 Adding file1\n",
      "Switched to branch 'master'\n"
     ]
    }
   ],
   "source": [
    "git checkout master"
   ]
  },
  {
   "cell_type": "code",
   "execution_count": 34,
   "metadata": {},
   "outputs": [
    {
     "name": "stdout",
     "output_type": "stream",
     "text": [
      "On branch master\n",
      "nothing to commit, working tree clean\n"
     ]
    }
   ],
   "source": [
    "git status"
   ]
  },
  {
   "cell_type": "code",
   "execution_count": 35,
   "metadata": {},
   "outputs": [
    {
     "name": "stdout",
     "output_type": "stream",
     "text": [
      "\u001b[1m\u001b[36m.\u001b[39;49m\u001b[0m         \u001b[1m\u001b[36m..\u001b[39;49m\u001b[0m        \u001b[1m\u001b[36m.git\u001b[39;49m\u001b[0m      file1.txt file2.txt\n"
     ]
    }
   ],
   "source": [
    "ls -a"
   ]
  }
 ],
 "metadata": {
  "kernelspec": {
   "display_name": "Bash",
   "language": "bash",
   "name": "bash"
  },
  "language_info": {
   "codemirror_mode": "shell",
   "file_extension": ".sh",
   "mimetype": "text/x-sh",
   "name": "bash"
  }
 },
 "nbformat": 4,
 "nbformat_minor": 2
}
