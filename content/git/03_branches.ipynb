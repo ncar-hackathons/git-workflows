{
 "cells": [
  {
   "cell_type": "markdown",
   "metadata": {},
   "source": [
    "![](../images/git-logo.png)\n",
    "# Branches"
   ]
  },
  {
   "cell_type": "markdown",
   "metadata": {},
   "source": [
    "As promised, I said I would get back to the cryptic comment in the `git status` saying `On branch master`.  Well, here's the point where I deliver on my promise.\n",
    "\n",
    "Your repository can save multiple histories.  Like alternate timelines from some episode of Star Trek, you can store different sequences of changes in different branches.\n",
    "\n",
    "If you haven't run the previous Repositories section, then let's get back to our sample project repository."
   ]
  },
  {
   "cell_type": "code",
   "execution_count": 1,
   "metadata": {},
   "outputs": [],
   "source": [
    "export TERM=xterm-mono\n",
    "cd ~/my_project"
   ]
  },
  {
   "cell_type": "markdown",
   "metadata": {},
   "source": [
    "**Note:** If you get an error here, go back to the previous section (\"Repositories\") and create the sample repository following that notebook.\n",
    "\n",
    "Now, let's create a `feature` branch."
   ]
  },
  {
   "cell_type": "code",
   "execution_count": 2,
   "metadata": {},
   "outputs": [],
   "source": [
    "git branch feature"
   ]
  },
  {
   "cell_type": "code",
   "execution_count": 3,
   "metadata": {},
   "outputs": [
    {
     "name": "stdout",
     "output_type": "stream",
     "text": [
      "On branch master\n",
      "nothing to commit, working tree clean\n"
     ]
    }
   ],
   "source": [
    "git status"
   ]
  },
  {
   "cell_type": "markdown",
   "metadata": {},
   "source": [
    "Note that we are still on the `master` branch, though!  To change to the new branch we just created, you need to use `git checkout`."
   ]
  },
  {
   "cell_type": "code",
   "execution_count": 4,
   "metadata": {},
   "outputs": [
    {
     "name": "stdout",
     "output_type": "stream",
     "text": [
      "Switched to branch 'feature'\n"
     ]
    }
   ],
   "source": [
    "git checkout feature"
   ]
  },
  {
   "cell_type": "code",
   "execution_count": 5,
   "metadata": {},
   "outputs": [
    {
     "name": "stdout",
     "output_type": "stream",
     "text": [
      "On branch feature\n",
      "nothing to commit, working tree clean\n"
     ]
    }
   ],
   "source": [
    "git status"
   ]
  },
  {
   "cell_type": "markdown",
   "metadata": {},
   "source": [
    "Now, let's add a new file in this branch."
   ]
  },
  {
   "cell_type": "code",
   "execution_count": 6,
   "metadata": {},
   "outputs": [],
   "source": [
    "echo \"And another file.\" > file3.txt"
   ]
  },
  {
   "cell_type": "markdown",
   "metadata": {},
   "source": [
    "And we stage and commit this new file to this branch."
   ]
  },
  {
   "cell_type": "code",
   "execution_count": 7,
   "metadata": {},
   "outputs": [
    {
     "name": "stdout",
     "output_type": "stream",
     "text": [
      "[feature cdcb791] Adding file3.\n",
      " 1 file changed, 1 insertion(+)\n",
      " create mode 100644 file3.txt\n"
     ]
    }
   ],
   "source": [
    "git add file3.txt\n",
    "git commit -m \"Adding file3.\""
   ]
  },
  {
   "cell_type": "code",
   "execution_count": 8,
   "metadata": {},
   "outputs": [
    {
     "name": "stdout",
     "output_type": "stream",
     "text": [
      "On branch feature\n",
      "nothing to commit, working tree clean\n"
     ]
    }
   ],
   "source": [
    "git status"
   ]
  },
  {
   "cell_type": "code",
   "execution_count": 9,
   "metadata": {},
   "outputs": [
    {
     "name": "stdout",
     "output_type": "stream",
     "text": [
      "cdcb791 (HEAD -> feature) Adding file3.\n",
      "8ab55cd (master) Modifying file1.\n",
      "f5ee173 Adding file2.\n",
      "52cc926 Adding file1\n"
     ]
    }
   ],
   "source": [
    "git log --oneline"
   ]
  },
  {
   "cell_type": "markdown",
   "metadata": {},
   "source": [
    "Now, let's switch back to our `master` branch."
   ]
  },
  {
   "cell_type": "code",
   "execution_count": 10,
   "metadata": {},
   "outputs": [
    {
     "name": "stdout",
     "output_type": "stream",
     "text": [
      "Switched to branch 'master'\n"
     ]
    }
   ],
   "source": [
    "git checkout master"
   ]
  },
  {
   "cell_type": "code",
   "execution_count": 11,
   "metadata": {},
   "outputs": [
    {
     "name": "stdout",
     "output_type": "stream",
     "text": [
      "8ab55cd (HEAD -> master) Modifying file1.\n",
      "f5ee173 Adding file2.\n",
      "52cc926 Adding file1\n"
     ]
    }
   ],
   "source": [
    "git log --oneline"
   ]
  },
  {
   "cell_type": "markdown",
   "metadata": {},
   "source": [
    "Notice that our latest commit doesn't show up!  It was only in our `feature` branch.\n",
    "\n",
    "Look in your directory, too."
   ]
  },
  {
   "cell_type": "code",
   "execution_count": 12,
   "metadata": {},
   "outputs": [
    {
     "name": "stdout",
     "output_type": "stream",
     "text": [
      ".\t\t..\t\t.git\t\tfile1.txt\tfile2.txt\n"
     ]
    }
   ],
   "source": [
    "ls -a"
   ]
  },
  {
   "cell_type": "markdown",
   "metadata": {},
   "source": [
    "Notice that `file3.txt` doesn't exist!  How do we get it back?  Switch back to the `feature` branch."
   ]
  },
  {
   "cell_type": "code",
   "execution_count": 13,
   "metadata": {},
   "outputs": [
    {
     "name": "stdout",
     "output_type": "stream",
     "text": [
      "Switched to branch 'feature'\n"
     ]
    }
   ],
   "source": [
    "git checkout feature"
   ]
  },
  {
   "cell_type": "code",
   "execution_count": 14,
   "metadata": {},
   "outputs": [
    {
     "name": "stdout",
     "output_type": "stream",
     "text": [
      ".\t\t.git\t\tfile2.txt\n",
      "..\t\tfile1.txt\tfile3.txt\n"
     ]
    }
   ],
   "source": [
    "ls -a"
   ]
  },
  {
   "cell_type": "markdown",
   "metadata": {},
   "source": [
    "And it's back!\n",
    "\n",
    "Now, let's add a change to the `master` branch."
   ]
  },
  {
   "cell_type": "code",
   "execution_count": 15,
   "metadata": {},
   "outputs": [
    {
     "name": "stdout",
     "output_type": "stream",
     "text": [
      "Switched to branch 'master'\n"
     ]
    }
   ],
   "source": [
    "git checkout master"
   ]
  },
  {
   "cell_type": "code",
   "execution_count": 16,
   "metadata": {},
   "outputs": [],
   "source": [
    "echo \"Some more text.\" >> file2.txt"
   ]
  },
  {
   "cell_type": "code",
   "execution_count": 17,
   "metadata": {},
   "outputs": [
    {
     "name": "stdout",
     "output_type": "stream",
     "text": [
      "[master f4dd054] Modifying file2.\n",
      " 1 file changed, 1 insertion(+)\n"
     ]
    }
   ],
   "source": [
    "git add file2.txt\n",
    "git commit -m \"Modifying file2.\""
   ]
  },
  {
   "cell_type": "code",
   "execution_count": 18,
   "metadata": {},
   "outputs": [
    {
     "name": "stdout",
     "output_type": "stream",
     "text": [
      "On branch master\n",
      "nothing to commit, working tree clean\n"
     ]
    }
   ],
   "source": [
    "git status"
   ]
  },
  {
   "cell_type": "code",
   "execution_count": 19,
   "metadata": {},
   "outputs": [
    {
     "name": "stdout",
     "output_type": "stream",
     "text": [
      "f4dd054 (HEAD -> master) Modifying file2.\n",
      "8ab55cd Modifying file1.\n",
      "f5ee173 Adding file2.\n",
      "52cc926 Adding file1\n"
     ]
    }
   ],
   "source": [
    "git log --oneline"
   ]
  },
  {
   "cell_type": "markdown",
   "metadata": {},
   "source": [
    "So, now we have 2 branchs, and each branch shares the first 3 commits in common, but each branch has a different commit added at the \"end.\"  "
   ]
  },
  {
   "cell_type": "markdown",
   "metadata": {},
   "source": [
    "## Merging"
   ]
  },
  {
   "cell_type": "markdown",
   "metadata": {},
   "source": [
    "These two branches can continue to develop independently from each other for as long as your like.  However, usually the point of having a branch is because you intend the other branch's changes to get merged back into the `master` branch, at some point.  It's like following 2 independent thought processes to their natural conclusion, making a decision, and then choosing the process (branch) that you want to use and _merging_ it into your process.  ...If that makes sense."
   ]
  },
  {
   "cell_type": "markdown",
   "metadata": {},
   "source": [
    "Let's merge our `feature` branch into our `master` branch.\n",
    "\n",
    "To do this, we need to be in the `master` branch, _where we want the new commits to be merged_."
   ]
  },
  {
   "cell_type": "code",
   "execution_count": 20,
   "metadata": {},
   "outputs": [
    {
     "name": "stdout",
     "output_type": "stream",
     "text": [
      "Already on 'master'\n"
     ]
    }
   ],
   "source": [
    "git checkout master"
   ]
  },
  {
   "cell_type": "markdown",
   "metadata": {},
   "source": [
    "Now, we need to merge _from_ the `feature` branch."
   ]
  },
  {
   "cell_type": "code",
   "execution_count": 21,
   "metadata": {},
   "outputs": [
    {
     "name": "stdout",
     "output_type": "stream",
     "text": [
      "Merge made by the 'recursive' strategy.\n",
      " file3.txt | 1 +\n",
      " 1 file changed, 1 insertion(+)\n",
      " create mode 100644 file3.txt\n"
     ]
    }
   ],
   "source": [
    "git merge feature -m \"Merging feature into master.\""
   ]
  },
  {
   "cell_type": "code",
   "execution_count": 22,
   "metadata": {},
   "outputs": [
    {
     "name": "stdout",
     "output_type": "stream",
     "text": [
      "On branch master\n",
      "nothing to commit, working tree clean\n"
     ]
    }
   ],
   "source": [
    "git status"
   ]
  },
  {
   "cell_type": "code",
   "execution_count": 23,
   "metadata": {},
   "outputs": [
    {
     "name": "stdout",
     "output_type": "stream",
     "text": [
      ".\t\t.git\t\tfile2.txt\n",
      "..\t\tfile1.txt\tfile3.txt\n"
     ]
    }
   ],
   "source": [
    "ls -a"
   ]
  },
  {
   "cell_type": "code",
   "execution_count": 24,
   "metadata": {},
   "outputs": [
    {
     "name": "stdout",
     "output_type": "stream",
     "text": [
      "And another file.\n"
     ]
    }
   ],
   "source": [
    "cat file3.txt"
   ]
  },
  {
   "cell_type": "code",
   "execution_count": 25,
   "metadata": {},
   "outputs": [
    {
     "name": "stdout",
     "output_type": "stream",
     "text": [
      "This is a new file.\n",
      "Some more text.\n"
     ]
    }
   ],
   "source": [
    "cat file2.txt"
   ]
  },
  {
   "cell_type": "markdown",
   "metadata": {},
   "source": [
    "And now you can see we have all of the changes we made to the `feature` branch in our `master` branch, and all of the changes that were _only_ in our `master` branch are still there.\n",
    "\n",
    "Let's look at the history of our `master` branch, now."
   ]
  },
  {
   "cell_type": "code",
   "execution_count": 26,
   "metadata": {},
   "outputs": [
    {
     "name": "stdout",
     "output_type": "stream",
     "text": [
      "5b75c02 (HEAD -> master) Merging feature into master.\n",
      "f4dd054 Modifying file2.\n",
      "cdcb791 (feature) Adding file3.\n",
      "8ab55cd Modifying file1.\n",
      "f5ee173 Adding file2.\n",
      "52cc926 Adding file1\n"
     ]
    }
   ],
   "source": [
    "git log --oneline"
   ]
  },
  {
   "cell_type": "markdown",
   "metadata": {},
   "source": [
    "Notice that the 4th commit (`Adding file3.`) also indicates that it came from the `feature` branch, even though we are looking at the history of the `master` branch."
   ]
  },
  {
   "cell_type": "markdown",
   "metadata": {},
   "source": [
    "## Deleting branches"
   ]
  },
  {
   "cell_type": "markdown",
   "metadata": {},
   "source": [
    "Now that our `feature` branch has been merged into `master`, it is usually good practice to delete it.  You actually don't have to delete this branch, but usual practice is to only keep _active_ branches around.  Otherwise, you run the risk of your repo behind hard for new users to parse and figure out.\n",
    "\n",
    "To delete the `feature` branch, we use the `-d` option to `git branch`:"
   ]
  },
  {
   "cell_type": "code",
   "execution_count": 27,
   "metadata": {},
   "outputs": [
    {
     "name": "stdout",
     "output_type": "stream",
     "text": [
      "  feature\n",
      "* master\n"
     ]
    }
   ],
   "source": [
    "git branch"
   ]
  },
  {
   "cell_type": "code",
   "execution_count": 28,
   "metadata": {},
   "outputs": [
    {
     "name": "stdout",
     "output_type": "stream",
     "text": [
      "Deleted branch feature (was cdcb791).\n"
     ]
    }
   ],
   "source": [
    "git branch -d feature"
   ]
  },
  {
   "cell_type": "code",
   "execution_count": 29,
   "metadata": {},
   "outputs": [
    {
     "name": "stdout",
     "output_type": "stream",
     "text": [
      "* master\n"
     ]
    }
   ],
   "source": [
    "git branch"
   ]
  },
  {
   "cell_type": "markdown",
   "metadata": {},
   "source": [
    "Now, what happens to the commit history now that we deleted the branch?"
   ]
  },
  {
   "cell_type": "code",
   "execution_count": 30,
   "metadata": {},
   "outputs": [
    {
     "name": "stdout",
     "output_type": "stream",
     "text": [
      "5b75c02 (HEAD -> master) Merging feature into master.\n",
      "f4dd054 Modifying file2.\n",
      "cdcb791 Adding file3.\n",
      "8ab55cd Modifying file1.\n",
      "f5ee173 Adding file2.\n",
      "52cc926 Adding file1\n"
     ]
    }
   ],
   "source": [
    "git log --oneline"
   ]
  },
  {
   "cell_type": "markdown",
   "metadata": {},
   "source": [
    "Notice that the commit log is the same, except that knowledge that the 4th commit came from the `feature` branch has now been lost (but the commit has not)."
   ]
  }
 ],
 "metadata": {
  "kernelspec": {
   "display_name": "Bash",
   "language": "bash",
   "name": "bash"
  },
  "language_info": {
   "codemirror_mode": "shell",
   "file_extension": ".sh",
   "mimetype": "text/x-sh",
   "name": "bash"
  }
 },
 "nbformat": 4,
 "nbformat_minor": 2
}
